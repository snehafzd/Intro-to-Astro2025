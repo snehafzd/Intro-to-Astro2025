{
 "cells": [
  {
   "attachments": {
    "numpy.png": {
     "image/png": "[encoded data removed]"
    }
   },
   "cell_type": "markdown",
   "metadata": {},
   "source": [
    "# Python Libraries 1\n",
    "# Numpy ![numpy.png](attachment:numpy.png)"
   ]
  },
  {
   "cell_type": "code",
   "execution_count": 1,
   "metadata": {},
   "outputs": [
    {
     "name": "stdout",
     "output_type": "stream",
     "text": [
      "Note: you may need to restart the kernel to use updated packages.\n"
     ]
    },
    {
     "name": "stderr",
     "output_type": "stream",
     "text": [
      "\n",
      "Usage:   \n",
      "  C:\\Users\\sunit shharmaa\\AppData\\Local\\Programs\\Python\\Python313\\python.exe -m pip install [options] <requirement specifier> [package-index-options] ...\n",
      "  C:\\Users\\sunit shharmaa\\AppData\\Local\\Programs\\Python\\Python313\\python.exe -m pip install [options] -r <requirements file> [package-index-options] ...\n",
      "  C:\\Users\\sunit shharmaa\\AppData\\Local\\Programs\\Python\\Python313\\python.exe -m pip install [options] [-e] <vcs project url> ...\n",
      "  C:\\Users\\sunit shharmaa\\AppData\\Local\\Programs\\Python\\Python313\\python.exe -m pip install [options] [-e] <local project path> ...\n",
      "  C:\\Users\\sunit shharmaa\\AppData\\Local\\Programs\\Python\\Python313\\python.exe -m pip install [options] <archive url/path> ...\n",
      "\n",
      "no such option: -m\n"
     ]
    }
   ],
   "source": [
    "pip install numpy -m"
   ]
  },
  {
   "cell_type": "raw",
   "metadata": {},
   "source": [
    "import numpy "
   ]
  },
  {
   "cell_type": "code",
   "execution_count": 57,
   "metadata": {
    "scrolled": true
   },
   "outputs": [],
   "source": [
    "l=[1,2,3]\n",
    "arr=np.array(l)"
   ]
  },
  {
   "cell_type": "markdown",
   "metadata": {},
   "source": [
    "arr"
   ]
  },
  {
   "cell_type": "code",
   "execution_count": 58,
   "metadata": {},
   "outputs": [],
   "source": [
    "import numpy as np"
   ]
  },
  {
   "cell_type": "markdown",
   "metadata": {},
   "source": [
    "np.array(l)"
   ]
  },
  {
   "cell_type": "code",
   "execution_count": 6,
   "metadata": {},
   "outputs": [],
   "source": [
    "arr_1=np.array([1,2,3])"
   ]
  },
  {
   "cell_type": "code",
   "execution_count": 7,
   "metadata": {},
   "outputs": [
    {
     "data": {
      "text/plain": [
       "array([1, 2, 3])"
      ]
     },
     "execution_count": 7,
     "metadata": {},
     "output_type": "execute_result"
    }
   ],
   "source": [
    "arr_1"
   ]
  },
  {
   "cell_type": "code",
   "execution_count": 8,
   "metadata": {},
   "outputs": [
    {
     "data": {
      "text/plain": [
       "array([2, 3, 4])"
      ]
     },
     "execution_count": 8,
     "metadata": {},
     "output_type": "execute_result"
    }
   ],
   "source": [
    "arr_1+1"
   ]
  },
  {
   "cell_type": "code",
   "execution_count": 9,
   "metadata": {},
   "outputs": [
    {
     "data": {
      "text/plain": [
       "array([2, 4, 6])"
      ]
     },
     "execution_count": 9,
     "metadata": {},
     "output_type": "execute_result"
    }
   ],
   "source": [
    "arr_1*2"
   ]
  },
  {
   "cell_type": "code",
   "execution_count": 10,
   "metadata": {},
   "outputs": [
    {
     "data": {
      "text/plain": [
       "[1, 2, 3, 2, 3, 4]"
      ]
     },
     "execution_count": 10,
     "metadata": {},
     "output_type": "execute_result"
    }
   ],
   "source": [
    "l_1=[1,2,3]\n",
    "l_2=[2,3,4]\n",
    "l_1+l_2"
   ]
  },
  {
   "cell_type": "code",
   "execution_count": 11,
   "metadata": {},
   "outputs": [],
   "source": [
    "arr_1=np.array(l_1)\n",
    "arr_2=np.array(l_2)"
   ]
  },
  {
   "cell_type": "code",
   "execution_count": 12,
   "metadata": {},
   "outputs": [
    {
     "data": {
      "text/plain": [
       "array([3, 5, 7])"
      ]
     },
     "execution_count": 12,
     "metadata": {},
     "output_type": "execute_result"
    }
   ],
   "source": [
    "arr_1+arr_2"
   ]
  },
  {
   "cell_type": "code",
   "execution_count": 13,
   "metadata": {},
   "outputs": [
    {
     "data": {
      "text/plain": [
       "np.int64(6)"
      ]
     },
     "execution_count": 13,
     "metadata": {},
     "output_type": "execute_result"
    }
   ],
   "source": [
    "arr_1.sum()"
   ]
  },
  {
   "cell_type": "code",
   "execution_count": 14,
   "metadata": {},
   "outputs": [
    {
     "data": {
      "text/plain": [
       "np.int64(1)"
      ]
     },
     "execution_count": 14,
     "metadata": {},
     "output_type": "execute_result"
    }
   ],
   "source": [
    "#Indexing\n",
    "arr_1[0]"
   ]
  },
  {
   "cell_type": "code",
   "execution_count": 15,
   "metadata": {},
   "outputs": [
    {
     "data": {
      "text/plain": [
       "np.int64(3)"
      ]
     },
     "execution_count": 15,
     "metadata": {},
     "output_type": "execute_result"
    }
   ],
   "source": [
    "arr_1[2]"
   ]
  },
  {
   "cell_type": "code",
   "execution_count": 16,
   "metadata": {},
   "outputs": [
    {
     "name": "stdout",
     "output_type": "stream",
     "text": [
      "1\n",
      "2\n",
      "3\n"
     ]
    }
   ],
   "source": [
    "for i in arr_1:\n",
    "    print(i)"
   ]
  },
  {
   "cell_type": "code",
   "execution_count": 17,
   "metadata": {},
   "outputs": [],
   "source": [
    "arr_2D=np.array([[1,1],[2,1],[3,2]])"
   ]
  },
  {
   "cell_type": "code",
   "execution_count": 18,
   "metadata": {},
   "outputs": [
    {
     "data": {
      "text/plain": [
       "array([[1, 1],\n",
       "       [2, 1],\n",
       "       [3, 2]])"
      ]
     },
     "execution_count": 18,
     "metadata": {},
     "output_type": "execute_result"
    }
   ],
   "source": [
    "arr_2D"
   ]
  },
  {
   "cell_type": "code",
   "execution_count": 19,
   "metadata": {},
   "outputs": [],
   "source": [
    "rand_array=np.random.random(size=[3,2])"
   ]
  },
  {
   "cell_type": "code",
   "execution_count": 20,
   "metadata": {},
   "outputs": [
    {
     "data": {
      "text/plain": [
       "array([[0., 0.],\n",
       "       [0., 0.],\n",
       "       [0., 0.]])"
      ]
     },
     "execution_count": 20,
     "metadata": {},
     "output_type": "execute_result"
    }
   ],
   "source": [
    "zero_array=np.zeros(shape=[3,2])\n",
    "zero_array"
   ]
  },
  {
   "cell_type": "code",
   "execution_count": 21,
   "metadata": {},
   "outputs": [
    {
     "data": {
      "text/plain": [
       "array([[0., 0.],\n",
       "       [0., 0.],\n",
       "       [0., 0.]])"
      ]
     },
     "execution_count": 21,
     "metadata": {},
     "output_type": "execute_result"
    }
   ],
   "source": [
    "zero_array"
   ]
  },
  {
   "cell_type": "code",
   "execution_count": 22,
   "metadata": {},
   "outputs": [],
   "source": [
    "rand_array=np.random.random(size=[5,5])"
   ]
  },
  {
   "cell_type": "code",
   "execution_count": 23,
   "metadata": {},
   "outputs": [
    {
     "data": {
      "text/plain": [
       "array([[0.58397761, 0.67589897, 0.05396464, 0.6434077 , 0.59463683],\n",
       "       [0.29199348, 0.78440433, 0.14414065, 0.01908902, 0.65453681],\n",
       "       [0.11098893, 0.17111757, 0.03044601, 0.57650098, 0.30025832],\n",
       "       [0.11526391, 0.03471835, 0.5121483 , 0.72827994, 0.64268399],\n",
       "       [0.82301608, 0.84752042, 0.23537948, 0.68119316, 0.65093154]])"
      ]
     },
     "execution_count": 23,
     "metadata": {},
     "output_type": "execute_result"
    }
   ],
   "source": [
    "rand_array"
   ]
  },
  {
   "cell_type": "code",
   "execution_count": 24,
   "metadata": {},
   "outputs": [
    {
     "data": {
      "text/plain": [
       "np.float64(0.7844043299034117)"
      ]
     },
     "execution_count": 24,
     "metadata": {},
     "output_type": "execute_result"
    }
   ],
   "source": [
    "rand_array[1,1]"
   ]
  },
  {
   "cell_type": "code",
   "execution_count": 25,
   "metadata": {},
   "outputs": [
    {
     "data": {
      "text/plain": [
       "array([[0.58397761, 0.67589897],\n",
       "       [0.29199348, 0.78440433]])"
      ]
     },
     "execution_count": 25,
     "metadata": {},
     "output_type": "execute_result"
    }
   ],
   "source": [
    "rand_array[0:2,0:2]"
   ]
  },
  {
   "cell_type": "code",
   "execution_count": 26,
   "metadata": {},
   "outputs": [
    {
     "data": {
      "text/plain": [
       "array([2.55188576, 1.89416429, 1.18931181, 2.0330945 , 3.23804068])"
      ]
     },
     "execution_count": 26,
     "metadata": {},
     "output_type": "execute_result"
    }
   ],
   "source": [
    "rand_array.sum(axis=1)"
   ]
  },
  {
   "cell_type": "code",
   "execution_count": 27,
   "metadata": {},
   "outputs": [
    {
     "data": {
      "text/plain": [
       "np.float64(2.08058552)"
      ]
     },
     "execution_count": 27,
     "metadata": {},
     "output_type": "execute_result"
    }
   ],
   "source": [
    "np.array([0.4924862 , 0.58400964, 0.42182289, 0.31476085, 0.26750594]).sum()"
   ]
  },
  {
   "cell_type": "code",
   "execution_count": 28,
   "metadata": {},
   "outputs": [
    {
     "data": {
      "text/plain": [
       "array([[5.83977608, 6.75898971, 0.53964643, 6.43407703, 5.9463683 ],\n",
       "       [2.91993481, 7.8440433 , 1.44140651, 0.19089018, 6.5453681 ],\n",
       "       [1.10988928, 1.71117572, 0.30446009, 5.7650098 , 3.00258318],\n",
       "       [1.15263911, 0.3471835 , 5.12148304, 7.28279942, 6.42683994],\n",
       "       [8.23016077, 8.47520419, 2.35379483, 6.81193161, 6.50931536]])"
      ]
     },
     "execution_count": 28,
     "metadata": {},
     "output_type": "execute_result"
    }
   ],
   "source": [
    "rand_array*10"
   ]
  },
  {
   "cell_type": "code",
   "execution_count": 29,
   "metadata": {},
   "outputs": [
    {
     "data": {
      "text/plain": [
       "array([[0.58397761, 0.67589897, 0.05396464, 0.6434077 , 0.59463683],\n",
       "       [0.29199348, 0.78440433, 0.14414065, 0.01908902, 0.65453681],\n",
       "       [0.11098893, 0.17111757, 0.03044601, 0.57650098, 0.30025832],\n",
       "       [0.11526391, 0.03471835, 0.5121483 , 0.72827994, 0.64268399],\n",
       "       [0.82301608, 0.84752042, 0.23537948, 0.68119316, 0.65093154]])"
      ]
     },
     "execution_count": 29,
     "metadata": {},
     "output_type": "execute_result"
    }
   ],
   "source": [
    "rand_array"
   ]
  },
  {
   "cell_type": "code",
   "execution_count": 30,
   "metadata": {},
   "outputs": [],
   "source": [
    "rand_array=np.random.random(size=100)"
   ]
  },
  {
   "cell_type": "code",
   "execution_count": 31,
   "metadata": {},
   "outputs": [],
   "source": [
    "rand_array.sort()\n"
   ]
  },
  {
   "cell_type": "code",
   "execution_count": 32,
   "metadata": {},
   "outputs": [
    {
     "data": {
      "text/plain": [
       "array([7.71687166e-04, 3.70284771e-03, 1.33600966e-02, 1.53351111e-02,\n",
       "       3.36999284e-02, 3.38701545e-02, 4.22273043e-02, 4.53390746e-02,\n",
       "       4.77492859e-02, 5.14580165e-02, 5.72368650e-02, 7.29047936e-02,\n",
       "       7.41170233e-02, 8.17316260e-02, 8.54665554e-02, 1.02527465e-01,\n",
       "       1.11541252e-01, 1.19223778e-01, 1.36658277e-01, 1.47619618e-01,\n",
       "       1.66288225e-01, 1.78827570e-01, 1.84585266e-01, 1.87071607e-01,\n",
       "       1.94105198e-01, 1.98603690e-01, 2.14488034e-01, 2.30788551e-01,\n",
       "       2.31369079e-01, 2.44729571e-01, 2.55862386e-01, 2.60398833e-01,\n",
       "       2.68366028e-01, 2.72403894e-01, 3.08894477e-01, 3.11799375e-01,\n",
       "       3.13273802e-01, 3.21268510e-01, 3.28161726e-01, 3.30546920e-01,\n",
       "       3.52521886e-01, 3.63044593e-01, 3.64238040e-01, 3.68762127e-01,\n",
       "       3.71965268e-01, 3.89393192e-01, 4.03508388e-01, 4.10908245e-01,\n",
       "       4.12472818e-01, 4.12816255e-01, 4.26353861e-01, 4.65279006e-01,\n",
       "       4.77108435e-01, 4.99771337e-01, 5.07159803e-01, 5.19540116e-01,\n",
       "       5.20144010e-01, 5.26310347e-01, 5.52406597e-01, 5.59120371e-01,\n",
       "       5.60343102e-01, 5.98649760e-01, 6.01785945e-01, 6.26091627e-01,\n",
       "       6.36037670e-01, 6.69836125e-01, 6.72988777e-01, 6.99615416e-01,\n",
       "       7.03786531e-01, 7.03869765e-01, 7.12534397e-01, 7.13744883e-01,\n",
       "       7.19960776e-01, 7.24177759e-01, 7.48191545e-01, 7.55122099e-01,\n",
       "       7.63006953e-01, 7.74833719e-01, 7.83577047e-01, 8.00674190e-01,\n",
       "       8.10208509e-01, 8.26174293e-01, 8.27940026e-01, 8.28578943e-01,\n",
       "       8.35813104e-01, 8.36350042e-01, 8.41510499e-01, 8.43100687e-01,\n",
       "       8.60818933e-01, 8.70841077e-01, 9.15251832e-01, 9.16920892e-01,\n",
       "       9.40160109e-01, 9.42324219e-01, 9.56623153e-01, 9.61692936e-01,\n",
       "       9.64284949e-01, 9.65791505e-01, 9.83325762e-01, 9.88844072e-01])"
      ]
     },
     "execution_count": 32,
     "metadata": {},
     "output_type": "execute_result"
    }
   ],
   "source": [
    "rand_array"
   ]
  },
  {
   "cell_type": "code",
   "execution_count": 55,
   "metadata": {},
   "outputs": [
    {
     "ename": "TypeError",
     "evalue": "'numpy.float64' object is not iterable",
     "output_type": "error",
     "traceback": [
      "\u001b[31m---------------------------------------------------------------------------\u001b[39m",
      "\u001b[31mTypeError\u001b[39m                                 Traceback (most recent call last)",
      "\u001b[36mCell\u001b[39m\u001b[36m \u001b[39m\u001b[32mIn[55]\u001b[39m\u001b[32m, line 2\u001b[39m\n\u001b[32m      1\u001b[39m \u001b[38;5;28;01mfor\u001b[39;00m row \u001b[38;5;129;01min\u001b[39;00m rand_array:\n\u001b[32m----> \u001b[39m\u001b[32m2\u001b[39m \u001b[43m    \u001b[49m\u001b[38;5;28;43;01mfor\u001b[39;49;00m\u001b[43m \u001b[49m\u001b[43mi\u001b[49m\u001b[43m \u001b[49m\u001b[38;5;129;43;01min\u001b[39;49;00m\u001b[43m \u001b[49m\u001b[43mrow\u001b[49m\u001b[43m:\u001b[49m\n\u001b[32m      3\u001b[39m \u001b[43m        \u001b[49m\u001b[38;5;28;43mprint\u001b[39;49m\u001b[43m(\u001b[49m\u001b[43mi\u001b[49m\u001b[43m)\u001b[49m\n",
      "\u001b[31mTypeError\u001b[39m: 'numpy.float64' object is not iterable"
     ]
    }
   ],
   "source": [
    "for row in rand_array:\n",
    "    for i in row:\n",
    "        print(i)"
   ]
  },
  {
   "cell_type": "code",
   "execution_count": 56,
   "metadata": {},
   "outputs": [
    {
     "name": "stdout",
     "output_type": "stream",
     "text": [
      "0.0007716871658302038\n",
      "0.0037028477086835654\n",
      "0.013360096642873742\n",
      "0.015335111097520948\n",
      "0.033699928406262236\n",
      "0.03387015445801789\n",
      "0.04222730434077093\n",
      "0.0453390745781268\n",
      "0.047749285903197825\n",
      "0.05145801651067472\n",
      "0.05723686500285652\n",
      "0.07290479356426527\n",
      "0.07411702329721759\n",
      "0.08173162599578265\n",
      "0.08546655540402703\n",
      "0.10252746474959695\n",
      "0.11154125231894318\n",
      "0.11922377837340647\n",
      "0.1366582769325857\n",
      "0.1476196179928222\n",
      "0.1662882253685395\n",
      "0.17882756957365242\n",
      "0.1845852661699222\n",
      "0.18707160732219374\n",
      "0.19410519839095863\n",
      "0.19860368962226593\n",
      "0.2144880343654444\n",
      "0.23078855085739314\n",
      "0.23136907892728975\n",
      "0.24472957075589674\n",
      "0.2558623864532329\n",
      "0.26039883270028685\n",
      "0.2683660283536784\n",
      "0.2724038943876401\n",
      "0.308894477464731\n",
      "0.31179937507860245\n",
      "0.31327380237171365\n",
      "0.3212685101248576\n",
      "0.32816172564846313\n",
      "0.33054691981458806\n",
      "0.3525218861082906\n",
      "0.36304459349152285\n",
      "0.3642380399830123\n",
      "0.3687621267911615\n",
      "0.3719652677772808\n",
      "0.3893931916489859\n",
      "0.40350838824763224\n",
      "0.4109082447985346\n",
      "0.41247281807882397\n",
      "0.41281625466611604\n",
      "0.42635386131718533\n",
      "0.465279005549435\n",
      "0.47710843460281616\n",
      "0.49977133670860663\n",
      "0.5071598029287857\n",
      "0.5195401163586956\n",
      "0.5201440098014678\n",
      "0.5263103468287225\n",
      "0.5524065967457578\n",
      "0.5591203705749006\n",
      "0.5603431018218868\n",
      "0.5986497595190164\n",
      "0.6017859451623455\n",
      "0.6260916270508265\n",
      "0.6360376702915436\n",
      "0.6698361248080434\n",
      "0.672988776731738\n",
      "0.6996154160984605\n",
      "0.7037865311601431\n",
      "0.7038697652015933\n",
      "0.7125343968257973\n",
      "0.7137448827689011\n",
      "0.7199607759434682\n",
      "0.7241777592262316\n",
      "0.7481915452152026\n",
      "0.755122098817054\n",
      "0.7630069530053817\n",
      "0.7748337191505562\n",
      "0.7835770467415281\n",
      "0.8006741902120704\n",
      "0.8102085094182755\n",
      "0.8261742929559713\n",
      "0.827940025863877\n",
      "0.8285789428962315\n",
      "0.8358131044524043\n",
      "0.8363500417431163\n",
      "0.8415104991820196\n",
      "0.8431006871772765\n",
      "0.8608189332378118\n",
      "0.8708410765155841\n",
      "0.9152518320992986\n",
      "0.9169208921915956\n",
      "0.9401601086021796\n",
      "0.9423242194341213\n",
      "0.9566231529693833\n",
      "0.9616929355608952\n",
      "0.9642849491074575\n",
      "0.9657915054809776\n",
      "0.9833257621571684\n",
      "0.9888440715792518\n"
     ]
    }
   ],
   "source": [
    "for i in rand_array.flat:\n",
    "    print(i)"
   ]
  },
  {
   "cell_type": "code",
   "execution_count": null,
   "metadata": {},
   "outputs": [],
   "source": [
    "# Exercises."
   ]
  },
  {
   "cell_type": "code",
   "execution_count": 44,
   "metadata": {},
   "outputs": [
    {
     "data": {
      "text/plain": [
       "np.float64(500.0)"
      ]
     },
     "execution_count": 44,
     "metadata": {},
     "output_type": "execute_result"
    }
   ],
   "source": [
    "x=np.linspace(0,10,100)\n",
    "x.sum()"
   ]
  },
  {
   "cell_type": "code",
   "execution_count": 45,
   "metadata": {},
   "outputs": [
    {
     "data": {
      "text/plain": [
       "array([ 2.        ,  2.70707071,  3.41414141,  4.12121212,  4.82828283,\n",
       "        5.53535354,  6.24242424,  6.94949495,  7.65656566,  8.36363636,\n",
       "        9.07070707,  9.77777778, 10.48484848, 11.19191919, 11.8989899 ,\n",
       "       12.60606061, 13.31313131, 14.02020202, 14.72727273, 15.43434343,\n",
       "       16.14141414, 16.84848485, 17.55555556, 18.26262626, 18.96969697,\n",
       "       19.67676768, 20.38383838, 21.09090909, 21.7979798 , 22.50505051,\n",
       "       23.21212121, 23.91919192, 24.62626263, 25.33333333, 26.04040404,\n",
       "       26.74747475, 27.45454545, 28.16161616, 28.86868687, 29.57575758,\n",
       "       30.28282828, 30.98989899, 31.6969697 , 32.4040404 , 33.11111111,\n",
       "       33.81818182, 34.52525253, 35.23232323, 35.93939394, 36.64646465,\n",
       "       37.35353535, 38.06060606, 38.76767677, 39.47474747, 40.18181818,\n",
       "       40.88888889, 41.5959596 , 42.3030303 , 43.01010101, 43.71717172,\n",
       "       44.42424242, 45.13131313, 45.83838384, 46.54545455, 47.25252525,\n",
       "       47.95959596, 48.66666667, 49.37373737, 50.08080808, 50.78787879,\n",
       "       51.49494949, 52.2020202 , 52.90909091, 53.61616162, 54.32323232,\n",
       "       55.03030303, 55.73737374, 56.44444444, 57.15151515, 57.85858586,\n",
       "       58.56565657, 59.27272727, 59.97979798, 60.68686869, 61.39393939,\n",
       "       62.1010101 , 62.80808081, 63.51515152, 64.22222222, 64.92929293,\n",
       "       65.63636364, 66.34343434, 67.05050505, 67.75757576, 68.46464646,\n",
       "       69.17171717, 69.87878788, 70.58585859, 71.29292929, 72.        ])"
      ]
     },
     "execution_count": 45,
     "metadata": {},
     "output_type": "execute_result"
    }
   ],
   "source": [
    "#Calculate y=7x+2\n",
    "y=7*x+2\n",
    "y"
   ]
  },
  {
   "cell_type": "code",
   "execution_count": 46,
   "metadata": {},
   "outputs": [
    {
     "data": {
      "text/plain": [
       "array([0.        , 0.01020304, 0.04081216, 0.09182736, 0.16324865,\n",
       "       0.25507601, 0.36730946, 0.49994898, 0.65299459, 0.82644628])"
      ]
     },
     "execution_count": 46,
     "metadata": {},
     "output_type": "execute_result"
    }
   ],
   "source": [
    "#Calculate y=x**2 for the first 10 elements\n",
    "first_10=x[0:10]\n",
    "y=first_10**2\n",
    "y"
   ]
  },
  {
   "cell_type": "code",
   "execution_count": 47,
   "metadata": {},
   "outputs": [
    {
     "data": {
      "text/plain": [
       "np.float64(0.040812162024283234)"
      ]
     },
     "execution_count": 47,
     "metadata": {},
     "output_type": "execute_result"
    }
   ],
   "source": [
    "x[2]*x[2]"
   ]
  },
  {
   "cell_type": "code",
   "execution_count": 48,
   "metadata": {},
   "outputs": [],
   "source": [
    "#Define a 100 equally spaced points using linspace. And then another 100 random points. And then add x and y together\n",
    "x=np.linspace(0,10,100)\n",
    "\n",
    "y=np.random.random(size=100)\n"
   ]
  },
  {
   "cell_type": "code",
   "execution_count": 49,
   "metadata": {},
   "outputs": [],
   "source": [
    "#Add x and y together and save in z\n",
    "z=x+y"
   ]
  },
  {
   "cell_type": "code",
   "execution_count": 50,
   "metadata": {},
   "outputs": [],
   "source": [
    "#Calculate the sum of of x,y and z and tell me which one is the largest"
   ]
  },
  {
   "cell_type": "code",
   "execution_count": 51,
   "metadata": {},
   "outputs": [
    {
     "data": {
      "text/plain": [
       "array([ 0.28976376,  0.38520459,  0.94228874,  0.65753298,  0.58186186,\n",
       "        0.69004992,  1.47239464,  1.62953736,  1.05047935,  1.45062319,\n",
       "        1.05222854,  1.78261742,  1.42795768,  1.77247897,  2.12504959,\n",
       "        2.2240759 ,  2.34404488,  1.88054965,  2.74823128,  2.08908796,\n",
       "        2.99441746,  2.4323001 ,  2.71204216,  3.28443091,  2.59151025,\n",
       "        2.57079447,  3.08835957,  2.94295115,  2.84513674,  3.33885742,\n",
       "        3.19445173,  3.43863789,  3.50482316,  4.2173314 ,  4.13909454,\n",
       "        3.97570741,  4.28125233,  4.01046001,  4.74899324,  4.16346512,\n",
       "        4.16002593,  4.2060244 ,  5.17235228,  4.9304485 ,  5.20973913,\n",
       "        5.08448535,  5.01179148,  5.04512754,  5.11837236,  5.22437102,\n",
       "        5.22771942,  5.645615  ,  5.70845762,  5.49307634,  6.28156407,\n",
       "        6.05774562,  6.60421906,  6.04060727,  6.30702387,  6.36941153,\n",
       "        6.17208178,  6.3243382 ,  6.37944073,  7.24951401,  7.36885458,\n",
       "        7.33659442,  6.96632693,  6.82384826,  7.13854888,  7.68867145,\n",
       "        7.7085305 ,  7.77452636,  7.9916593 ,  7.87444548,  8.24152123,\n",
       "        8.20673861,  8.55504188,  8.0754964 ,  7.95525545,  8.30601329,\n",
       "        8.48340606,  8.75690287,  9.22993701,  8.39265925,  8.81939388,\n",
       "        9.25979889,  8.99975407,  9.24136717,  9.33019649,  9.53095795,\n",
       "        9.97312885, 10.13775648,  9.97867828, 10.37180497, 10.01974246,\n",
       "        9.97487293,  9.9480111 , 10.40033066, 10.10318203, 10.85282059])"
      ]
     },
     "execution_count": 51,
     "metadata": {},
     "output_type": "execute_result"
    }
   ],
   "source": [
    "z"
   ]
  },
  {
   "cell_type": "code",
   "execution_count": 52,
   "metadata": {},
   "outputs": [
    {
     "name": "stdout",
     "output_type": "stream",
     "text": [
      "500.0\n",
      "547.9114028558323\n"
     ]
    }
   ],
   "source": [
    "print(x.sum())\n",
    "#print(y_out.sum())\n",
    "print(z.sum())"
   ]
  },
  {
   "cell_type": "code",
   "execution_count": null,
   "metadata": {},
   "outputs": [],
   "source": []
  }
 ],
 "metadata": {
  "kernelspec": {
   "display_name": "Python 3 (ipykernel)",
   "language": "python",
   "name": "python3"
  },
  "language_info": {
   "codemirror_mode": {
    "name": "ipython",
    "version": 3
   },
   "file_extension": ".py",
   "mimetype": "text/x-python",
   "name": "python",
   "nbconvert_exporter": "python",
   "pygments_lexer": "ipython3",
   "version": "3.13.5"
  }
 },
 "nbformat": 4,
 "nbformat_minor": 4
}
