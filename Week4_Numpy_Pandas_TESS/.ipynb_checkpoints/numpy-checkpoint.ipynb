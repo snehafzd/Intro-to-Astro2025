{
 "cells": [
  {
   "attachments": {
    "numpy.png": {
     "image/png": "[encoded data removed]"
    }
   },
   "cell_type": "markdown",
   "metadata": {},
   "source": [
    "# Python Libraries 1\n",
    "# Numpy ![numpy.png](attachment:numpy.png)"
   ]
  },
  {
   "cell_type": "code",
   "execution_count": 3,
   "metadata": {},
   "outputs": [],
   "source": [
    "import numpy"
   ]
  },
  {
   "cell_type": "code",
   "execution_count": 4,
   "metadata": {},
   "outputs": [],
   "source": [
    "l=[1,2,3]\n",
    "arr=numpy.array(l)"
   ]
  },
  {
   "cell_type": "code",
   "execution_count": 5,
   "metadata": {},
   "outputs": [
    {
     "data": {
      "text/plain": [
       "array([1, 2, 3])"
      ]
     },
     "execution_count": 5,
     "metadata": {},
     "output_type": "execute_result"
    }
   ],
   "source": [
    "arr"
   ]
  },
  {
   "cell_type": "code",
   "execution_count": 6,
   "metadata": {},
   "outputs": [],
   "source": [
    "import numpy as np"
   ]
  },
  {
   "cell_type": "code",
   "execution_count": 7,
   "metadata": {},
   "outputs": [
    {
     "data": {
      "text/plain": [
       "array([1, 2, 3])"
      ]
     },
     "execution_count": 7,
     "metadata": {},
     "output_type": "execute_result"
    }
   ],
   "source": [
    "np.array(l)"
   ]
  },
  {
   "cell_type": "code",
   "execution_count": 8,
   "metadata": {},
   "outputs": [],
   "source": [
    "arr_1=np.array([1,2,3])"
   ]
  },
  {
   "cell_type": "code",
   "execution_count": 9,
   "metadata": {},
   "outputs": [
    {
     "data": {
      "text/plain": [
       "array([1, 2, 3])"
      ]
     },
     "execution_count": 9,
     "metadata": {},
     "output_type": "execute_result"
    }
   ],
   "source": [
    "arr_1"
   ]
  },
  {
   "cell_type": "code",
   "execution_count": 10,
   "metadata": {},
   "outputs": [
    {
     "data": {
      "text/plain": [
       "array([2, 3, 4])"
      ]
     },
     "execution_count": 10,
     "metadata": {},
     "output_type": "execute_result"
    }
   ],
   "source": [
    "arr_1+1"
   ]
  },
  {
   "cell_type": "code",
   "execution_count": 11,
   "metadata": {},
   "outputs": [
    {
     "data": {
      "text/plain": [
       "array([2, 4, 6])"
      ]
     },
     "execution_count": 11,
     "metadata": {},
     "output_type": "execute_result"
    }
   ],
   "source": [
    "arr_1*2"
   ]
  },
  {
   "cell_type": "code",
   "execution_count": 12,
   "metadata": {},
   "outputs": [
    {
     "data": {
      "text/plain": [
       "[1, 2, 3, 2, 3, 4]"
      ]
     },
     "execution_count": 12,
     "metadata": {},
     "output_type": "execute_result"
    }
   ],
   "source": [
    "l_1=[1,2,3]\n",
    "l_2=[2,3,4]\n",
    "l_1+l_2"
   ]
  },
  {
   "cell_type": "code",
   "execution_count": 13,
   "metadata": {},
   "outputs": [],
   "source": [
    "arr_1=np.array(l_1)\n",
    "arr_2=np.array(l_2)"
   ]
  },
  {
   "cell_type": "code",
   "execution_count": 14,
   "metadata": {},
   "outputs": [
    {
     "data": {
      "text/plain": [
       "array([3, 5, 7])"
      ]
     },
     "execution_count": 14,
     "metadata": {},
     "output_type": "execute_result"
    }
   ],
   "source": [
    "arr_1+arr_2"
   ]
  },
  {
   "cell_type": "code",
   "execution_count": 15,
   "metadata": {},
   "outputs": [
    {
     "data": {
      "text/plain": [
       "6"
      ]
     },
     "execution_count": 15,
     "metadata": {},
     "output_type": "execute_result"
    }
   ],
   "source": [
    "arr_1.sum()"
   ]
  },
  {
   "cell_type": "code",
   "execution_count": 16,
   "metadata": {},
   "outputs": [
    {
     "data": {
      "text/plain": [
       "1"
      ]
     },
     "execution_count": 16,
     "metadata": {},
     "output_type": "execute_result"
    }
   ],
   "source": [
    "#Indexing\n",
    "arr_1[0]"
   ]
  },
  {
   "cell_type": "code",
   "execution_count": 17,
   "metadata": {},
   "outputs": [
    {
     "data": {
      "text/plain": [
       "3"
      ]
     },
     "execution_count": 17,
     "metadata": {},
     "output_type": "execute_result"
    }
   ],
   "source": [
    "arr_1[2]"
   ]
  },
  {
   "cell_type": "code",
   "execution_count": 18,
   "metadata": {},
   "outputs": [
    {
     "name": "stdout",
     "output_type": "stream",
     "text": [
      "1\n",
      "2\n",
      "3\n"
     ]
    }
   ],
   "source": [
    "for i in arr_1:\n",
    "    print(i)"
   ]
  },
  {
   "cell_type": "code",
   "execution_count": 19,
   "metadata": {},
   "outputs": [],
   "source": [
    "arr_2D=np.array([[1,1],[2,1],[3,2]])"
   ]
  },
  {
   "cell_type": "code",
   "execution_count": 20,
   "metadata": {},
   "outputs": [
    {
     "data": {
      "text/plain": [
       "array([[1, 1],\n",
       "       [2, 1],\n",
       "       [3, 2]])"
      ]
     },
     "execution_count": 20,
     "metadata": {},
     "output_type": "execute_result"
    }
   ],
   "source": [
    "arr_2D"
   ]
  },
  {
   "cell_type": "code",
   "execution_count": 21,
   "metadata": {},
   "outputs": [],
   "source": [
    "rand_array=np.random.random(size=[3,2])"
   ]
  },
  {
   "cell_type": "code",
   "execution_count": 62,
   "metadata": {},
   "outputs": [
    {
     "data": {
      "text/plain": [
       "array([[0., 0.],\n",
       "       [0., 0.],\n",
       "       [0., 0.]])"
      ]
     },
     "execution_count": 62,
     "metadata": {},
     "output_type": "execute_result"
    }
   ],
   "source": [
    "zero_array=np.zeros(shape=[3,2])\n",
    "zero_array"
   ]
  },
  {
   "cell_type": "code",
   "execution_count": 23,
   "metadata": {},
   "outputs": [
    {
     "data": {
      "text/plain": [
       "array([[0., 0.]])"
      ]
     },
     "execution_count": 23,
     "metadata": {},
     "output_type": "execute_result"
    }
   ],
   "source": [
    "zero_array"
   ]
  },
  {
   "cell_type": "code",
   "execution_count": 24,
   "metadata": {},
   "outputs": [],
   "source": [
    "rand_array=np.random.random(size=[5,5])"
   ]
  },
  {
   "cell_type": "code",
   "execution_count": 25,
   "metadata": {},
   "outputs": [
    {
     "data": {
      "text/plain": [
       "array([[0.14758131, 0.83260796, 0.40430879, 0.41555499, 0.63120785],\n",
       "       [0.4924862 , 0.58400964, 0.42182289, 0.31476085, 0.26750594],\n",
       "       [0.96549509, 0.591418  , 0.733441  , 0.86647242, 0.50206162],\n",
       "       [0.82343266, 0.60601154, 0.91327087, 0.80994222, 0.56830348],\n",
       "       [0.01198283, 0.65237893, 0.80848757, 0.06219124, 0.1512057 ]])"
      ]
     },
     "execution_count": 25,
     "metadata": {},
     "output_type": "execute_result"
    }
   ],
   "source": [
    "rand_array"
   ]
  },
  {
   "cell_type": "code",
   "execution_count": 26,
   "metadata": {},
   "outputs": [
    {
     "data": {
      "text/plain": [
       "0.5840096442228575"
      ]
     },
     "execution_count": 26,
     "metadata": {},
     "output_type": "execute_result"
    }
   ],
   "source": [
    "rand_array[1,1]"
   ]
  },
  {
   "cell_type": "code",
   "execution_count": 27,
   "metadata": {},
   "outputs": [
    {
     "data": {
      "text/plain": [
       "array([[0.14758131, 0.83260796],\n",
       "       [0.4924862 , 0.58400964]])"
      ]
     },
     "execution_count": 27,
     "metadata": {},
     "output_type": "execute_result"
    }
   ],
   "source": [
    "rand_array[0:2,0:2]"
   ]
  },
  {
   "cell_type": "code",
   "execution_count": 64,
   "metadata": {},
   "outputs": [
    {
     "data": {
      "text/plain": [
       "array([2.43126091, 2.08058552, 3.65888813, 3.72096077, 1.68624626])"
      ]
     },
     "execution_count": 64,
     "metadata": {},
     "output_type": "execute_result"
    }
   ],
   "source": [
    "rand_array.sum(axis=1)"
   ]
  },
  {
   "cell_type": "code",
   "execution_count": 67,
   "metadata": {},
   "outputs": [
    {
     "data": {
      "text/plain": [
       "2.08058552"
      ]
     },
     "execution_count": 67,
     "metadata": {},
     "output_type": "execute_result"
    }
   ],
   "source": [
    "np.array([0.4924862 , 0.58400964, 0.42182289, 0.31476085, 0.26750594]).sum()"
   ]
  },
  {
   "cell_type": "code",
   "execution_count": 29,
   "metadata": {},
   "outputs": [
    {
     "data": {
      "text/plain": [
       "array([[1.47581315, 8.32607961, 4.04308794, 4.15554993, 6.31207848],\n",
       "       [4.924862  , 5.84009644, 4.21822889, 3.14760848, 2.67505941],\n",
       "       [9.65495086, 5.91418003, 7.33441002, 8.66472415, 5.02061621],\n",
       "       [8.2343266 , 6.06011542, 9.13270869, 8.09942221, 5.68303475],\n",
       "       [0.11982825, 6.52378932, 8.08487569, 0.62191235, 1.51205703]])"
      ]
     },
     "execution_count": 29,
     "metadata": {},
     "output_type": "execute_result"
    }
   ],
   "source": [
    "rand_array*10"
   ]
  },
  {
   "cell_type": "code",
   "execution_count": 30,
   "metadata": {},
   "outputs": [
    {
     "data": {
      "text/plain": [
       "array([[0.14758131, 0.83260796, 0.40430879, 0.41555499, 0.63120785],\n",
       "       [0.4924862 , 0.58400964, 0.42182289, 0.31476085, 0.26750594],\n",
       "       [0.96549509, 0.591418  , 0.733441  , 0.86647242, 0.50206162],\n",
       "       [0.82343266, 0.60601154, 0.91327087, 0.80994222, 0.56830348],\n",
       "       [0.01198283, 0.65237893, 0.80848757, 0.06219124, 0.1512057 ]])"
      ]
     },
     "execution_count": 30,
     "metadata": {},
     "output_type": "execute_result"
    }
   ],
   "source": [
    "rand_array"
   ]
  },
  {
   "cell_type": "code",
   "execution_count": 104,
   "metadata": {},
   "outputs": [],
   "source": [
    "rand_array=np.random.random(size=100)"
   ]
  },
  {
   "cell_type": "code",
   "execution_count": 105,
   "metadata": {},
   "outputs": [],
   "source": [
    "rand_array.sort()\n"
   ]
  },
  {
   "cell_type": "code",
   "execution_count": 106,
   "metadata": {},
   "outputs": [
    {
     "data": {
      "text/plain": [
       "array([0.00825003, 0.01775386, 0.0282558 , 0.03341556, 0.06042226,\n",
       "       0.07515971, 0.09104704, 0.09180217, 0.10307482, 0.10403353,\n",
       "       0.12167066, 0.17045695, 0.18055937, 0.18623565, 0.19582513,\n",
       "       0.20812076, 0.21735033, 0.22110265, 0.23822584, 0.26728242,\n",
       "       0.26907229, 0.26911782, 0.27201972, 0.28496117, 0.28772292,\n",
       "       0.29270219, 0.29676188, 0.31126511, 0.31232228, 0.31357761,\n",
       "       0.32517502, 0.34981329, 0.35154743, 0.35320188, 0.35579965,\n",
       "       0.35661284, 0.36185017, 0.36194439, 0.39556713, 0.40368622,\n",
       "       0.40933359, 0.42202797, 0.43375683, 0.44837957, 0.44941625,\n",
       "       0.48020264, 0.49012594, 0.50125765, 0.50538223, 0.50697708,\n",
       "       0.50743015, 0.51795004, 0.52095683, 0.52546219, 0.52878882,\n",
       "       0.53179604, 0.54459744, 0.5730151 , 0.58968161, 0.59572043,\n",
       "       0.60135078, 0.62746148, 0.63792402, 0.64656206, 0.65669683,\n",
       "       0.67052358, 0.69694343, 0.70733167, 0.71371731, 0.72201105,\n",
       "       0.72917925, 0.72989759, 0.73444481, 0.74885819, 0.7556047 ,\n",
       "       0.77830471, 0.79062911, 0.79670592, 0.79718012, 0.84159188,\n",
       "       0.84355681, 0.84665977, 0.84865086, 0.85046218, 0.85221566,\n",
       "       0.85561928, 0.86857591, 0.86918781, 0.90165629, 0.9024814 ,\n",
       "       0.91773733, 0.9179768 , 0.92040891, 0.92075158, 0.93473321,\n",
       "       0.93821812, 0.94401403, 0.97037785, 0.98625138, 0.99574151])"
      ]
     },
     "execution_count": 106,
     "metadata": {},
     "output_type": "execute_result"
    }
   ],
   "source": [
    "rand_array"
   ]
  },
  {
   "cell_type": "code",
   "execution_count": 31,
   "metadata": {},
   "outputs": [
    {
     "name": "stdout",
     "output_type": "stream",
     "text": [
      "0.14758131461879764\n",
      "0.8326079613031313\n",
      "0.40430879365867045\n",
      "0.41555499300559384\n",
      "0.6312078477007262\n",
      "0.4924862000813247\n",
      "0.5840096442228575\n",
      "0.42182288947930546\n",
      "0.3147608476732785\n",
      "0.26750594058100785\n",
      "0.9654950861057456\n",
      "0.5914180033482038\n",
      "0.7334410021414434\n",
      "0.8664724152019767\n",
      "0.5020616206983554\n",
      "0.8234326602713046\n",
      "0.606011541851732\n",
      "0.9132708688228633\n",
      "0.8099422209030873\n",
      "0.5683034752295326\n",
      "0.011982825453687562\n",
      "0.6523789316439983\n",
      "0.8084875690671237\n",
      "0.06219123511786995\n",
      "0.15120570345521356\n"
     ]
    }
   ],
   "source": [
    "for row in rand_array:\n",
    "    for i in row:\n",
    "        print(i)"
   ]
  },
  {
   "cell_type": "code",
   "execution_count": 37,
   "metadata": {},
   "outputs": [],
   "source": [
    "# Exercises."
   ]
  },
  {
   "cell_type": "code",
   "execution_count": 77,
   "metadata": {},
   "outputs": [
    {
     "data": {
      "text/plain": [
       "500.0"
      ]
     },
     "execution_count": 77,
     "metadata": {},
     "output_type": "execute_result"
    }
   ],
   "source": [
    "x=np.linspace(0,10,100)\n",
    "x.sum()"
   ]
  },
  {
   "cell_type": "code",
   "execution_count": null,
   "metadata": {},
   "outputs": [],
   "source": []
  },
  {
   "cell_type": "code",
   "execution_count": 94,
   "metadata": {},
   "outputs": [
    {
     "ename": "SyntaxError",
     "evalue": "invalid syntax (<ipython-input-94-62c18eef9855>, line 2)",
     "output_type": "error",
     "traceback": [
      "\u001b[0;36m  File \u001b[0;32m\"<ipython-input-94-62c18eef9855>\"\u001b[0;36m, line \u001b[0;32m2\u001b[0m\n\u001b[0;31m    y=7x+2\u001b[0m\n\u001b[0m       ^\u001b[0m\n\u001b[0;31mSyntaxError\u001b[0m\u001b[0;31m:\u001b[0m invalid syntax\n"
     ]
    }
   ],
   "source": [
    "#Calculate y=7x+2\n",
    "y=7*x+2\n",
    "y"
   ]
  },
  {
   "cell_type": "code",
   "execution_count": 97,
   "metadata": {},
   "outputs": [
    {
     "data": {
      "text/plain": [
       "array([0.        , 0.01020304, 0.04081216, 0.09182736, 0.16324865,\n",
       "       0.25507601, 0.36730946, 0.49994898, 0.65299459, 0.82644628])"
      ]
     },
     "execution_count": 97,
     "metadata": {},
     "output_type": "execute_result"
    }
   ],
   "source": [
    "#Calculate y=x**2 for the first 10 elements\n",
    "first_10=x[0:10]\n",
    "y=first_10**2\n",
    "y"
   ]
  },
  {
   "cell_type": "code",
   "execution_count": 90,
   "metadata": {},
   "outputs": [
    {
     "data": {
      "text/plain": [
       "0.040812162024283234"
      ]
     },
     "execution_count": 90,
     "metadata": {},
     "output_type": "execute_result"
    }
   ],
   "source": [
    "x[2]*x[2]"
   ]
  },
  {
   "cell_type": "code",
   "execution_count": 99,
   "metadata": {},
   "outputs": [],
   "source": [
    "#Define a 100 equally spaced points using linspace. And then another 100 random points. And then add x and y together\n",
    "x=np.linspace(0,10,100)\n",
    "\n",
    "y=np.random.random(size=100)\n"
   ]
  },
  {
   "cell_type": "code",
   "execution_count": 100,
   "metadata": {},
   "outputs": [],
   "source": [
    "#Add x and y together and save in z\n",
    "z=x+y"
   ]
  },
  {
   "cell_type": "code",
   "execution_count": 51,
   "metadata": {},
   "outputs": [],
   "source": [
    "#Calculate the sum of of x,y and z and tell me which one is the largest"
   ]
  },
  {
   "cell_type": "code",
   "execution_count": 92,
   "metadata": {},
   "outputs": [
    {
     "data": {
      "text/plain": [
       "array([ 0.13145159,  0.87838304,  0.46724095,  0.4698998 ,  0.9208804 ,\n",
       "        0.71809228,  1.03618954,  1.38166426,  1.29208772,  1.89367294,\n",
       "        1.19246504,  1.32459867,  1.64319679,  2.15584813,  1.85266299,\n",
       "        2.02403716,  2.29460439,  1.72130734,  2.61685999,  2.01786579,\n",
       "        2.50753303,  2.75029314,  3.03332971,  2.47955001,  2.72835691,\n",
       "        2.94469762,  3.28786739,  3.68007565,  3.80273068,  3.70472999,\n",
       "        3.98701139,  3.38000326,  3.73528986,  3.87734271,  3.87187921,\n",
       "        4.45707208,  4.51220121,  3.79689896,  4.04081874,  4.1875249 ,\n",
       "        4.58488692,  4.42989466,  4.50884788,  4.86305995,  4.66065553,\n",
       "        5.32191666,  5.00831557,  5.62900776,  5.77574237,  5.80834679,\n",
       "        5.11402998,  5.66774367,  5.40479716,  5.50881739,  6.33067144,\n",
       "        6.43132343,  6.53265656,  5.85966216,  6.67805891,  5.9760002 ,\n",
       "        6.4485686 ,  6.84044956,  6.62004188,  6.77019279,  6.98780559,\n",
       "        7.36860785,  7.66085501,  7.04478229,  6.97604103,  7.60221765,\n",
       "        8.01442609,  7.95385954,  7.63961554,  7.68381198,  7.69381309,\n",
       "        8.19996459,  8.6695357 ,  8.46743257,  7.93445689,  8.34673341,\n",
       "        8.2168622 ,  8.41641114,  9.05152821,  8.95267463,  8.61598959,\n",
       "        8.59265643,  9.12322431,  9.02720276,  9.04794639,  9.26042426,\n",
       "        9.23419559,  9.38329556,  9.57557616,  9.8921156 ,  9.87439553,\n",
       "       10.20441074, 10.54003578, 10.62231083, 10.52278671, 10.26306594])"
      ]
     },
     "execution_count": 92,
     "metadata": {},
     "output_type": "execute_result"
    }
   ],
   "source": [
    "z"
   ]
  },
  {
   "cell_type": "code",
   "execution_count": 93,
   "metadata": {},
   "outputs": [
    {
     "name": "stdout",
     "output_type": "stream",
     "text": [
      "500.0\n",
      "48.23297029705364\n",
      "548.2329702970536\n"
     ]
    }
   ],
   "source": [
    "print(x.sum())\n",
    "print(y_out.sum())\n",
    "print(z.sum())"
   ]
  },
  {
   "cell_type": "code",
   "execution_count": null,
   "metadata": {},
   "outputs": [],
   "source": []
  }
 ],
 "metadata": {
  "kernelspec": {
   "display_name": "Python 3",
   "language": "python",
   "name": "python3"
  },
  "language_info": {
   "codemirror_mode": {
    "name": "ipython",
    "version": 3
   },
   "file_extension": ".py",
   "mimetype": "text/x-python",
   "name": "python",
   "nbconvert_exporter": "python",
   "pygments_lexer": "ipython3",
   "version": "3.8.8"
  }
 },
 "nbformat": 4,
 "nbformat_minor": 2
}
